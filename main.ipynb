{
 "cells": [
  {
   "cell_type": "code",
   "execution_count": null,
   "id": "291f1439",
   "metadata": {
    "lines_to_next_cell": 1
   },
   "outputs": [],
   "source": [
    "import numpy as np\n",
    "from tabulate import tabulate\n",
    "# Sorduğum daha tecrübeli yazılımcılar bana pandas yerine tabulate ile daha kolay ve daha şık tablo yapabileceğimi söyledi. (haklılarmış)\n",
    "#panda yerine tabulate kullandım başka kullanımlara izin verdiğiniz için ekstra bilgi almadım\n",
    "# Array olan yaşlar\n",
    "yaslar = np.array([15, 15, 16, 19, 19, 20, 20, 21, 22, 28, 35, 40, 41, 42, 43, 44, 60, 61, 65])\n",
    "# Başlangıç küme merkezleri\n",
    "c1 = 16 \n",
    "c2 = 22\n",
    "# Manhattan uzaklık fonksiyonu\n",
    "def manhattan_uzaklik(x, c):\n",
    "    return abs(x - c)\n",
    "# Kümeleme işlemi için fonksiyon\n",
    "def kumeleme(yaslar, c1, c2, iterasyon_sayisi):\n",
    "    for i in range(iterasyon_sayisi):\n",
    "        # Uzaklıkları hesapla\n",
    "        d1 = manhattan_uzaklik(yaslar, c1)\n",
    "        d2 = manhattan_uzaklik(yaslar, c2)\n",
    "        # Kümeleri belirle\n",
    "        kume1 = yaslar[d1 < d2]\n",
    "        kume2 = yaslar[d2 <= d1]\n",
    "        # Yeni küme merkezlerini hesapla\n",
    "        c1_yeni = np.mean(kume1)\n",
    "        c2_yeni = np.mean(kume2)\n",
    "        # Tablo için verileri hazırla\n",
    "        tablo_verisi = []\n",
    "        for xi in yaslar:\n",
    "            dist1=manhattan_uzaklik(xi, c1)\n",
    "            dist2=manhattan_uzaklik(xi, c2)\n",
    "            nearest_cluster = 1 if dist1 < dist2 else 2\n",
    "            tablo_verisi.append([xi, c1, c2, dist1, dist2, nearest_cluster, c1_yeni if nearest_cluster == 1 else c2_yeni])\n",
    "        # Tablo aşaması\n",
    "        print(f\"Iterasyon {i+1}:\")\n",
    "        print(tabulate(tablo_verisi, headers=['xi', 'c1', 'c2', 'Distance1', 'Distance2', 'Nearest Cluster', 'New Centroid'], tablefmt='grid'))\n",
    "        # Küme merkezlerini yenile\n",
    "        c1 = c1_yeni\n",
    "        c2 = c2_yeni"
   ]
  },
  {
   "cell_type": "code",
   "execution_count": null,
   "id": "f16c5d6b",
   "metadata": {},
   "outputs": [],
   "source": [
    "kumeleme(yaslar, c1, c2,4)\n",
    "# yukardaki son yazan 4 değeri iterasyon sayısını gösterir.\n",
    "# bu elimizdeki arreylere göre 3. ve 4. tablolar aynıdır."
   ]
  }
 ],
 "metadata": {
  "jupytext": {
   "cell_metadata_filter": "-all",
   "main_language": "python",
   "notebook_metadata_filter": "-all"
  }
 },
 "nbformat": 4,
 "nbformat_minor": 5
}
